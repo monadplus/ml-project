{
 "cells": [
  {
   "cell_type": "markdown",
   "id": "0c48ebf0",
   "metadata": {},
   "source": [
    "# Stroke prediction"
   ]
  },
  {
   "cell_type": "markdown",
   "id": "ce1105c0",
   "metadata": {},
   "source": [
    "## Introduction\n",
    "\n",
    "The goal of this model is to predict if a person is going to suffer a stroke.\n",
    "\n",
    "Since false negative are more important (false positives can be checked at the hospital), we are going to add more weight on those in the loss function. \n",
    "\n",
    "### Background\n",
    "\n",
    "A stroke occurs when the blood supply to part of your brain is interrupted or reduced, preventing brain tissue from getting oxygen and nutrients. Brain cells begin to die in minutes. A stroke is a medical emergency, and prompt treatment is crucial. Early action can reduce brain damage and other complications. The good news is that many fewer Americans die of stroke now than in the past. Effective treatments can also help prevent disability from stroke."
   ]
  },
  {
   "cell_type": "markdown",
   "id": "2c18cd88",
   "metadata": {},
   "source": [
    "- [ ] Try using SMOTETOMEK etc.\n",
    "- [ ] Try undersampling methods."
   ]
  },
  {
   "cell_type": "code",
   "execution_count": null,
   "id": "3764b290",
   "metadata": {},
   "outputs": [],
   "source": [
    "import numpy as np\n",
    "import pandas as pd\n",
    "import matplotlib.pyplot as plt\n",
    "import seaborn as sns\n",
    "import plotly.express as px\n",
    "import sklearn\n",
    "import imblearn\n",
    "\n",
    "from bokeh.io import push_notebook, output_notebook, show\n",
    "from bokeh.palettes import Category20c\n",
    "from bokeh.plotting import figure\n",
    "from bokeh.transform import cumsum\n",
    "output_notebook()\n",
    "\n",
    "sns.set_style('whitegrid')\n",
    "cmap = sns.cm.mako_r\n",
    "\n",
    "%matplotlib inline\n",
    "\n",
    "import warnings \n",
    "warnings.filterwarnings('ignore')"
   ]
  },
  {
   "cell_type": "code",
   "execution_count": null,
   "id": "9fb8e91a",
   "metadata": {},
   "outputs": [],
   "source": [
    "from sklearn.utils import check_random_state\n",
    "np.random.seed(42)\n",
    "assert check_random_state is not None, \"Set numpy seed for determinism.\""
   ]
  },
  {
   "cell_type": "code",
   "execution_count": null,
   "id": "b3af8043",
   "metadata": {},
   "outputs": [],
   "source": [
    "df = pd.read_csv('../dataset/stroke.csv').drop(columns=['id'])"
   ]
  },
  {
   "cell_type": "code",
   "execution_count": null,
   "id": "3d53cb69",
   "metadata": {},
   "outputs": [],
   "source": [
    "df.shape"
   ]
  },
  {
   "cell_type": "code",
   "execution_count": null,
   "id": "a94e7ce0",
   "metadata": {},
   "outputs": [],
   "source": [
    "df.dtypes"
   ]
  },
  {
   "cell_type": "code",
   "execution_count": null,
   "id": "6bd3cb6e",
   "metadata": {},
   "outputs": [],
   "source": [
    "categorical_cols = df.select_dtypes(include=object).columns\n",
    "binary_cols = ['stroke', 'hypertension', 'heart_disease']\n",
    "numerical_cols = df.select_dtypes(include=np.number).columns.drop(binary_cols)\n",
    "print(f'Numerical variables: {len(numerical_cols)}')\n",
    "print(f'Categorical variables: {len(categorical_cols) + len(binary_cols)}')"
   ]
  },
  {
   "cell_type": "code",
   "execution_count": null,
   "id": "b96433ed",
   "metadata": {},
   "outputs": [],
   "source": [
    "df[categorical_cols].describe()"
   ]
  },
  {
   "cell_type": "markdown",
   "id": "a99e398b",
   "metadata": {},
   "source": [
    "## Preprocessing"
   ]
  },
  {
   "cell_type": "markdown",
   "id": "faffd637",
   "metadata": {},
   "source": [
    "Age should be rounded to a natural."
   ]
  },
  {
   "cell_type": "code",
   "execution_count": null,
   "id": "8834802e",
   "metadata": {},
   "outputs": [],
   "source": [
    "df['age'] = df['age'].apply(round)"
   ]
  },
  {
   "cell_type": "markdown",
   "id": "bb86bf22",
   "metadata": {},
   "source": [
    "Binary categorical variables should be modeled properly."
   ]
  },
  {
   "cell_type": "code",
   "execution_count": null,
   "id": "be6f7e46",
   "metadata": {},
   "outputs": [],
   "source": [
    "def binary2Categorical(df, cols):\n",
    "  for c in cols:\n",
    "    df[c] = pd.cut(df[c], bins=[-0.5,0.5,1.5], labels=['no', 'yes'])"
   ]
  },
  {
   "cell_type": "code",
   "execution_count": null,
   "id": "5dbddb7b",
   "metadata": {},
   "outputs": [],
   "source": [
    "binary_cols = ['hypertension', 'heart_disease']    \n",
    "binary2Categorical(df, binary_cols)\n",
    "categorical_cols = df.select_dtypes(include=[object, 'category']).columns"
   ]
  },
  {
   "cell_type": "markdown",
   "id": "503f900a",
   "metadata": {},
   "source": [
    "### Dealing with outliers"
   ]
  },
  {
   "cell_type": "code",
   "execution_count": null,
   "id": "5a767403",
   "metadata": {
    "scrolled": false
   },
   "outputs": [],
   "source": [
    "df[numerical_cols].hist(bins=20, layout=(2,3), figsize=(9,6))"
   ]
  },
  {
   "cell_type": "code",
   "execution_count": null,
   "id": "d0e420e1",
   "metadata": {},
   "outputs": [],
   "source": [
    "fig, axes= plt.subplots(1,2, gridspec_kw={'width_ratios': [1, 4]}, figsize=(9,4))\n",
    "df.boxplot(column='age',ax=axes[0])\n",
    "df.hist(bins=25, column='age', ax=axes[1], legend=True)"
   ]
  },
  {
   "cell_type": "markdown",
   "id": "72972c9d",
   "metadata": {},
   "source": [
    "Here we could have used IQR filtering but it would have removed the values of the extrem of the interval which is no good."
   ]
  },
  {
   "cell_type": "markdown",
   "id": "2e0c0e3b",
   "metadata": {},
   "source": [
    "After some research (see [Overweight & Obesity](https://www.cdc.gov/obesity/adult/defining.html)), we consider a BMI less than 15 and greater than 60 an outlier."
   ]
  },
  {
   "cell_type": "code",
   "execution_count": null,
   "id": "3ae46f3d",
   "metadata": {},
   "outputs": [],
   "source": [
    "df['bmi'] = df['bmi'].apply(lambda bmi_value: bmi_value if 15 < bmi_value < 60 else np.nan)"
   ]
  },
  {
   "cell_type": "markdown",
   "id": "8d04b6eb",
   "metadata": {},
   "source": [
    "There is only one person with 'Other' gender so we will consider it an outlier."
   ]
  },
  {
   "cell_type": "code",
   "execution_count": null,
   "id": "d31c689a",
   "metadata": {},
   "outputs": [],
   "source": [
    "df = df[df['gender'] != 'Other']"
   ]
  },
  {
   "cell_type": "markdown",
   "id": "72dbf127",
   "metadata": {},
   "source": [
    "### Replace Low Frequency Categorical Variables"
   ]
  },
  {
   "cell_type": "code",
   "execution_count": null,
   "id": "f7804485",
   "metadata": {},
   "outputs": [],
   "source": [
    "#def replaceLowFreq(df, threshold=0.1, replacement='other'):\n",
    "#    f = lambda x: x.map(x.value_counts(normalize=True)) >= threshold\n",
    "#    r = df[categorical_cols].where(df[categorical_cols].apply(f), replacement)\n",
    "#    df[categorical_cols] = r\n",
    "#\n",
    "#replaceLowFreq(df, threshold=0.1)"
   ]
  },
  {
   "cell_type": "markdown",
   "id": "5f2ee0f9",
   "metadata": {},
   "source": [
    "### Imputation"
   ]
  },
  {
   "cell_type": "code",
   "execution_count": null,
   "id": "dbc16379",
   "metadata": {},
   "outputs": [],
   "source": [
    "def displayMissingValues():\n",
    "    plt.title('Amount Of Missing Values',fontsize=14, y=-0.2)\n",
    "    ax = sns.heatmap(pd.DataFrame(df.isna().sum()),annot=True, fmt='d', vmin=0, vmax=df.shape[0])\n",
    "displayMissingValues()"
   ]
  },
  {
   "cell_type": "markdown",
   "id": "69c3101e",
   "metadata": {},
   "source": [
    "A naive imputation such as the *mean of all non missing bmi* will not work since 'bmi' depends on other variables e.g. 'age', 'gender', etc.\n",
    "\n",
    "```python\n",
    "from sklearn.impute import SimpleImputer\n",
    "\n",
    "imp_mean = SimpleImputer(missing_values=np.nan, strategy='mean')\n",
    "\n",
    "X = np.array(df.bmi).reshape(-1,1)\n",
    "df.bmi = imp_mean.fit_transform(X)\n",
    "```\n",
    "\n",
    "This is why we are going to impute the missing bmi values using a Decision Tree based with variables age and gender."
   ]
  },
  {
   "cell_type": "code",
   "execution_count": null,
   "id": "6abf93a9",
   "metadata": {},
   "outputs": [],
   "source": [
    "from sklearn.pipeline import Pipeline\n",
    "from sklearn.tree import DecisionTreeRegressor\n",
    "from sklearn.preprocessing import StandardScaler\n",
    "\n",
    "imp_dt = DecisionTreeRegressor(random_state=42)\n",
    "\n",
    "pipe = \\\n",
    "  Pipeline(steps=[('scale',StandardScaler()), \n",
    "                  ('imputer', imp_dt)])\n",
    "\n",
    "X = df[['age','gender','bmi']].copy()\n",
    "X.gender = X.gender.replace({'Male':0,'Female':1,'Other':-1}).astype(np.uint8)\n",
    "\n",
    "Missing = X[X.bmi.isna()]\n",
    "X = X[~X.bmi.isna()]\n",
    "Y = X.pop('bmi')\n",
    "pipe.fit(X,Y)\n",
    "predicted_bmi = pd.Series(pipe.predict(Missing[['age','gender']]), index=Missing.index)\n",
    "df.loc[Missing.index,'bmi'] = predicted_bmi"
   ]
  },
  {
   "cell_type": "code",
   "execution_count": null,
   "id": "0c5bb8fa",
   "metadata": {},
   "outputs": [],
   "source": [
    "displayMissingValues()"
   ]
  },
  {
   "cell_type": "markdown",
   "id": "dbc7592a",
   "metadata": {},
   "source": [
    "## Visualization"
   ]
  },
  {
   "cell_type": "markdown",
   "id": "37a70f7e",
   "metadata": {},
   "source": [
    "First, let's display the data grouped by target class."
   ]
  },
  {
   "cell_type": "code",
   "execution_count": null,
   "id": "0cf25cf6",
   "metadata": {
    "scrolled": true
   },
   "outputs": [],
   "source": [
    "fig1, ax1 = plt.subplots()\n",
    "ax1.pie(df['stroke'].value_counts(), explode=[0, 0.3], labels=['no stroke', 'stroke'], autopct='%1.1f%%',\n",
    "        shadow=True, startangle=180)\n",
    "ax1.set_title('Stroke class proportion', loc='center', y=1.0, fontsize=14, fontweight='bold')\n",
    "ax1.axis('equal')\n",
    "\n",
    "plt.show()"
   ]
  },
  {
   "cell_type": "markdown",
   "id": "dfa38a67",
   "metadata": {},
   "source": [
    "The dataset is **imbalanced**. We will take this into account in the next sections by using a resampling method such as SMOTE."
   ]
  },
  {
   "cell_type": "code",
   "execution_count": null,
   "id": "2f580bb2",
   "metadata": {},
   "outputs": [],
   "source": [
    "from math import pi\n",
    "\n",
    "len_data = len(df)\n",
    "len_m = len(df[df[\"gender\"]==\"Male\"])\n",
    "len_w = len_data - len_m\n",
    "\n",
    "men_stroke = len(df.loc[(df[\"stroke\"]==1)&(df['gender']==\"Male\")])\n",
    "men_no_stroke = len_m - men_stroke\n",
    "\n",
    "women_stroke = len(df.loc[(df[\"stroke\"]==1) & (df['gender']==\"Female\")])\n",
    "women_no_stroke = len_w - women_stroke\n",
    "\n",
    "x = {\n",
    "    'Men with stroke': men_stroke,\n",
    "    'Women with stroke': women_stroke,\n",
    "    'Men healthy': men_no_stroke,\n",
    "    'Women healthy': women_no_stroke\n",
    "}\n",
    "          \n",
    "data = pd.Series(x).reset_index(name='value').rename(columns={'index':'label'})\n",
    "data['angle'] = data['value']/data['value'].sum() * 2*pi\n",
    "data['color'] = Category20c[len(x)]\n",
    "\n",
    "p = figure(plot_height=350, toolbar_location=None,\n",
    "           tools=\"hover\", tooltips=\"@label: @value\", x_range=(-0.5, 1.0))\n",
    "p.title.text = 'Stroke class grouped by gender'\n",
    "p.title.align = 'center'\n",
    "p.title.text_color = 'black'\n",
    "p.wedge(x=0, y=1, radius=0.4,\n",
    "        start_angle=cumsum('angle', include_zero=True), end_angle=cumsum('angle'),\n",
    "        line_color=\"white\", fill_color='color', legend_field='label', source=data)\n",
    "\n",
    "p.axis.axis_label=None\n",
    "p.axis.visible=False\n",
    "p.grid.grid_line_color = None\n",
    "\n",
    "show(p)"
   ]
  },
  {
   "cell_type": "code",
   "execution_count": null,
   "id": "32b665cb",
   "metadata": {},
   "outputs": [],
   "source": [
    "df.groupby(['stroke']).sum().plot(kind='pie', subplots=True, figsize=(10,5), startangle=180)"
   ]
  },
  {
   "cell_type": "markdown",
   "id": "411567f5",
   "metadata": {},
   "source": [
    "The classes representation seems to be proportioned when partition by each numerical variable."
   ]
  },
  {
   "cell_type": "markdown",
   "id": "8634a722",
   "metadata": {},
   "source": [
    "Next, we are going to have a look at the categorical variables."
   ]
  },
  {
   "cell_type": "code",
   "execution_count": null,
   "id": "1091ce9e",
   "metadata": {},
   "outputs": [],
   "source": [
    "fig, axes = plt.subplots(3,3,figsize=(20,20))\n",
    "\n",
    "for i, c in enumerate(categorical_cols):\n",
    "  ax = axes.reshape(-1)[i]\n",
    "  ct = pd.crosstab(index=df[c], columns=df['stroke'],normalize='index')\n",
    "  a = ct.plot(kind='bar', stacked=True,ax=ax)\n",
    "\n",
    "# Do not show empty plots\n",
    "for ax in axes.reshape(-1)[len(categorical_cols):]:\n",
    "    ax.set_visible(False)\n",
    "    \n",
    "plt.tight_layout()"
   ]
  },
  {
   "cell_type": "markdown",
   "id": "c805f8d0",
   "metadata": {},
   "source": [
    "- Stroke doesn't seem to be highly correlated to smoke since the proportion of person having a strok is farily the same among the different smoking status.\n",
    "- Men are more prone to stroke than women.\n",
    "- The gender does not discriminite a person having a stroke or not.\n",
    "- Hypertension and heart disease does affect a person having a stroke.\n",
    "- Rural people is less prone to stroke."
   ]
  },
  {
   "cell_type": "markdown",
   "id": "fe911fbc",
   "metadata": {},
   "source": [
    "Let's have a look at the KDE plots of the numerical variables by stroke."
   ]
  },
  {
   "cell_type": "code",
   "execution_count": null,
   "id": "90050659",
   "metadata": {},
   "outputs": [],
   "source": [
    "fig = plt.figure(figsize=(12, 12), dpi=150)\n",
    "gs = fig.add_gridspec(4, 3)\n",
    "gs.update(wspace=0.1, hspace=0.4)\n",
    "\n",
    "plot = 0\n",
    "for row in range(0, 1):\n",
    "    for col in range(0, 3):\n",
    "        locals()[\"ax\"+str(plot)] = fig.add_subplot(gs[row, col])\n",
    "        locals()[\"ax\"+str(plot)].tick_params(axis='y', left=False)\n",
    "        locals()[\"ax\"+str(plot)].get_yaxis().set_visible(False)\n",
    "        for s in [\"top\",\"right\",\"left\"]:\n",
    "            locals()[\"ax\"+str(plot)].spines[s].set_visible(False)\n",
    "        plot += 1\n",
    "\n",
    "plot = 0\n",
    "\n",
    "s = df[df['stroke'] == 1]\n",
    "ns = df[df['stroke'] == 0]\n",
    "\n",
    "for feature in numerical_cols:\n",
    "        sns.kdeplot(s[feature], ax=locals()[\"ax\"+str(plot)], color='#0f4c81', shade=True, linewidth=1.5, ec='black',alpha=0.9, zorder=3, legend=False)\n",
    "        sns.kdeplot(ns[feature],ax=locals()[\"ax\"+str(plot)], color='#9bb7d4', shade=True, linewidth=1.5, ec='black',alpha=0.9, zorder=3, legend=False)\n",
    "        locals()[\"ax\"+str(plot)].grid(which='major', axis='x', zorder=0, color='gray', linestyle=':', dashes=(1,5))\n",
    "        plot += 1\n",
    "\n",
    "ax0.set_xlabel('Age')\n",
    "ax1.set_xlabel('Avg. Glucose Levels')\n",
    "ax2.set_xlabel('BMI')\n",
    "        \n",
    "ax0.text(-20, 0.056, 'Numeric Variables by stroke', fontsize=20, fontweight='bold')\n",
    "\n",
    "plt.show()"
   ]
  },
  {
   "cell_type": "markdown",
   "id": "e43e6e15",
   "metadata": {},
   "source": [
    "Age looks to be a prominent factor."
   ]
  },
  {
   "cell_type": "markdown",
   "id": "9de59dcc",
   "metadata": {},
   "source": [
    "## Correlation"
   ]
  },
  {
   "cell_type": "code",
   "execution_count": null,
   "id": "ad25effc",
   "metadata": {},
   "outputs": [],
   "source": [
    "fig = px.parallel_categories(df[['gender', 'age', 'hypertension', 'heart_disease', 'ever_married',\n",
    "       'work_type', 'Residence_type',\n",
    "       'smoking_status', 'stroke']], color='stroke', color_continuous_scale=px.colors.sequential.Inferno)\n",
    "fig.show()"
   ]
  },
  {
   "cell_type": "code",
   "execution_count": null,
   "id": "77aa8c31",
   "metadata": {
    "scrolled": false
   },
   "outputs": [],
   "source": [
    "# This is terribly slow...\n",
    "g = sns.pairplot(df, diag_kind=\"kde\", hue='stroke', corner=True, height=2.0)\n",
    "g.map_lower(sns.kdeplot, levels=4, color=\".2\")"
   ]
  },
  {
   "cell_type": "code",
   "execution_count": null,
   "id": "b7421e39",
   "metadata": {
    "scrolled": false
   },
   "outputs": [],
   "source": [
    "from sklearn.preprocessing import LabelEncoder\n",
    "\n",
    "encoder = LabelEncoder()\n",
    "df_aux = df.apply(encoder.fit_transform)\n",
    "\n",
    "plt.figure(figsize=(16,8))\n",
    "sns.heatmap(df_aux.corr(),cmap=\"Blues\", annot=True);"
   ]
  },
  {
   "cell_type": "markdown",
   "id": "78fd5fef",
   "metadata": {},
   "source": [
    "## Modeling"
   ]
  },
  {
   "cell_type": "markdown",
   "id": "5931d976",
   "metadata": {},
   "source": [
    "Since the dataset is imbalanced, a useful baseline to beat is the _the null accuracy_. We will use the inverse since we are predicting the positive case 'stroke'.  \n",
    "\n",
    "Our baseline will be $\\approx 5\\%$ for recall of positive stroke."
   ]
  },
  {
   "cell_type": "code",
   "execution_count": null,
   "id": "b59a5130",
   "metadata": {},
   "outputs": [],
   "source": [
    "from sklearn.svm import SVC\n",
    "from sklearn.ensemble import RandomForestClassifier\n",
    "from sklearn.linear_model import LogisticRegression\n",
    "from sklearn.neighbors import KNeighborsClassifier\n",
    "from sklearn.ensemble import AdaBoostClassifier"
   ]
  },
  {
   "cell_type": "markdown",
   "id": "663ba61f",
   "metadata": {},
   "source": [
    "We start by spliting data into training and testing."
   ]
  },
  {
   "cell_type": "code",
   "execution_count": null,
   "id": "168ff8f6",
   "metadata": {},
   "outputs": [],
   "source": [
    "from sklearn.model_selection import train_test_split\n",
    "\n",
    "X = df.loc[:, df.columns != 'stroke']\n",
    "y = df['stroke']\n",
    "X_train, X_test, y_train, y_test = train_test_split(X, y, test_size=0.33, random_state=42)"
   ]
  },
  {
   "cell_type": "markdown",
   "id": "a4575406",
   "metadata": {},
   "source": [
    "### Encoding"
   ]
  },
  {
   "cell_type": "markdown",
   "id": "4cde99b8",
   "metadata": {},
   "source": [
    "There are multiple ways to make the categorical variables numerical:\n",
    "- LabelEncoder\n",
    "- OneHotEncoder\n",
    "- OrdinalEncoder\n",
    "- ..."
   ]
  },
  {
   "cell_type": "code",
   "execution_count": null,
   "id": "04783c12",
   "metadata": {},
   "outputs": [],
   "source": [
    "X_train_one = pd.get_dummies(X_train, columns = categorical_cols, drop_first=True)"
   ]
  },
  {
   "cell_type": "markdown",
   "id": "d48fddc0",
   "metadata": {},
   "source": [
    "### Over-sampling"
   ]
  },
  {
   "cell_type": "markdown",
   "id": "28bde051",
   "metadata": {},
   "source": [
    "The learning phase and the subsequent prediction of machine learning algorithms can be affected by the problem of imbalanced data set. The balancing issue corresponds to the difference of the number of samples in the different classes.\n",
    "\n",
    "In order to fix this problem, we are going to use SMOTE (Synthetic Minority Over-sampling Technique) which is an over-sampling method based on linear interpolation of the k-Nearest Neighbors."
   ]
  },
  {
   "cell_type": "code",
   "execution_count": null,
   "id": "0c00ec87",
   "metadata": {},
   "outputs": [],
   "source": [
    "from imblearn.over_sampling import SMOTE"
   ]
  },
  {
   "cell_type": "markdown",
   "id": "309940ae",
   "metadata": {},
   "source": [
    "To pick the best model we are going to use cross-validation."
   ]
  },
  {
   "cell_type": "code",
   "execution_count": null,
   "id": "7ae93e99",
   "metadata": {},
   "outputs": [],
   "source": [
    "from sklearn.model_selection import cross_val_score\n",
    "\n",
    "def runCrossValidation(pipeline, X, y, folds=10, scoring='f1'):\n",
    "  scores = cross_val_score(pipeline, X, y, cv=folds, scoring=scoring)\n",
    "  print(f'Mean F1-score: {scores.mean()}')"
   ]
  },
  {
   "cell_type": "markdown",
   "id": "580c6b76",
   "metadata": {},
   "source": [
    "### Pipeline: Standarization + SMOTE + Classifier"
   ]
  },
  {
   "cell_type": "code",
   "execution_count": null,
   "id": "d7cf7be5",
   "metadata": {},
   "outputs": [],
   "source": [
    "from imblearn.pipeline import make_pipeline\n",
    "from sklearn.preprocessing import StandardScaler\n",
    "\n",
    "def getPipeline(classifier):\n",
    "    scale = StandardScaler()\n",
    "    smote = SMOTE(random_state=42, k_neighbors=5)\n",
    "    p = make_pipeline(scale, smote, classifier)\n",
    "    return p"
   ]
  },
  {
   "cell_type": "markdown",
   "id": "243af485",
   "metadata": {},
   "source": [
    "#### SVC"
   ]
  },
  {
   "cell_type": "code",
   "execution_count": null,
   "id": "41d74916",
   "metadata": {},
   "outputs": [],
   "source": [
    "svc = SVC(random_state=42)\n",
    "pipeline = getPipeline(svc) \n",
    "runCrossValidation(pipeline, X_train_one, y_train)"
   ]
  },
  {
   "cell_type": "markdown",
   "id": "d7bda640",
   "metadata": {},
   "source": [
    "#### Random Forest"
   ]
  },
  {
   "cell_type": "code",
   "execution_count": null,
   "id": "90927d0a",
   "metadata": {},
   "outputs": [],
   "source": [
    "rfc = RandomForestClassifier(random_state=42)\n",
    "pipeline = getPipeline(rfc) \n",
    "\n",
    "# TODO NaN ??\n",
    "runCrossValidation(pipeline, X_train, y_train)\n",
    "\n",
    "# One-hot encoding\n",
    "runCrossValidation(pipeline, X_train_one, y_train)"
   ]
  },
  {
   "cell_type": "markdown",
   "id": "82890139",
   "metadata": {},
   "source": [
    "#### Logistic Regression"
   ]
  },
  {
   "cell_type": "code",
   "execution_count": null,
   "id": "8db964ea",
   "metadata": {},
   "outputs": [],
   "source": [
    "lr = LogisticRegression(random_state=42)\n",
    "pipeline = getPipeline(lr) \n",
    "runCrossValidation(pipeline, X_train_one, y_train)"
   ]
  },
  {
   "cell_type": "markdown",
   "id": "c3be8313",
   "metadata": {},
   "source": [
    "#### KNN"
   ]
  },
  {
   "cell_type": "code",
   "execution_count": null,
   "id": "a757171d",
   "metadata": {},
   "outputs": [],
   "source": [
    "# TODO hyperparameter\n",
    "knn = KNeighborsClassifier(n_neighbors=3)\n",
    "pipeline = getPipeline(knn) \n",
    "runCrossValidation(pipeline, X_train_one, y_train)"
   ]
  },
  {
   "cell_type": "markdown",
   "id": "45df61ef",
   "metadata": {},
   "source": [
    "#### AdaBoost"
   ]
  },
  {
   "cell_type": "code",
   "execution_count": null,
   "id": "aa2beb97",
   "metadata": {},
   "outputs": [],
   "source": [
    "# TODO hyperparameter\n",
    "ada=AdaBoostClassifier(n_estimators=100, random_state=42)\n",
    "pipeline = getPipeline(ada) \n",
    "runCrossValidation(pipeline, X_train_one, y_train)"
   ]
  },
  {
   "cell_type": "markdown",
   "id": "23d60ff6",
   "metadata": {},
   "source": [
    "### Factor Analysis"
   ]
  },
  {
   "cell_type": "code",
   "execution_count": null,
   "id": "8522918d",
   "metadata": {},
   "outputs": [],
   "source": [
    "import prince\n",
    "\n",
    "def MCA(n_components):\n",
    "  mca = prince.MCA(\n",
    "          n_components=n_components,\n",
    "          n_iter=100,\n",
    "          copy=True,\n",
    "          check_input=True,\n",
    "          engine='auto',\n",
    "          random_state=42)\n",
    "  return mca\n",
    "\n",
    "def printMCA(X, n_components):\n",
    "  mca = MCA(n_components)\n",
    "  mca = mca.fit(X)\n",
    "    \n",
    "  plt.plot(np.cumsum(mca.explained_inertia_))\n",
    "  plt.title('Cumulative sum of inertia')\n",
    "    \n",
    "  mca.plot_coordinates(\n",
    "    X=X,\n",
    "    ax=None,\n",
    "    figsize=(12, 12),\n",
    "    show_row_points=True,\n",
    "    row_points_size=10,\n",
    "    show_row_labels=False,\n",
    "    show_column_points=True,\n",
    "    column_points_size=30,\n",
    "    show_column_labels=True,\n",
    "    legend_n_cols=1)"
   ]
  },
  {
   "cell_type": "code",
   "execution_count": null,
   "id": "0d28f545",
   "metadata": {
    "scrolled": true
   },
   "outputs": [],
   "source": [
    "printMCA(X_train, n_components=17)"
   ]
  },
  {
   "cell_type": "markdown",
   "id": "818ad5a7",
   "metadata": {},
   "source": [
    "The inertia is really low since MCA only uses categorical variables.\n",
    "\n",
    "Let's try binning the numerical variables into categorical ones in order to use them on the MCA."
   ]
  },
  {
   "cell_type": "code",
   "execution_count": null,
   "id": "4cac999d",
   "metadata": {},
   "outputs": [],
   "source": [
    "def binNumericalVariables(X):\n",
    "  r = X.copy()\n",
    "  r.drop(columns=['age', 'bmi', 'avg_glucose_level'])\n",
    "  r['age'] = pd.cut(X_train['age'], bins=[0,13,18,45,60,150], labels=['children', 'teens', 'adults', 'seniors', 'elderly'])\n",
    "  r['bmi'] = pd.cut(X_train['bmi'], bins=[0,19,25,30,300], labels=['underweight', 'normal', 'overweight', 'obesity'])\n",
    "  r['avg_glucose_level'] = pd.cut(X_train['avg_glucose_level'], bins=[0,90,160,230,500], labels=['low','normal','high','very high']) \n",
    "  return r"
   ]
  },
  {
   "cell_type": "markdown",
   "id": "a970cb60",
   "metadata": {},
   "source": [
    "The glucose level binning is extracted from this [blog](https://agamatrix.com/blog/normal-blood-sugar-level-chart/)."
   ]
  },
  {
   "cell_type": "code",
   "execution_count": null,
   "id": "765c86e1",
   "metadata": {},
   "outputs": [],
   "source": [
    "X_train_mca = binNumericalVariables(X_train)"
   ]
  },
  {
   "cell_type": "code",
   "execution_count": null,
   "id": "2262c56b",
   "metadata": {},
   "outputs": [],
   "source": [
    "X_train_mca.dtypes"
   ]
  },
  {
   "cell_type": "markdown",
   "id": "bd937003",
   "metadata": {},
   "source": [
    "All variables are now encoded as binary or categorical"
   ]
  },
  {
   "cell_type": "code",
   "execution_count": null,
   "id": "fad79f08",
   "metadata": {
    "scrolled": true
   },
   "outputs": [],
   "source": [
    "printMCA(X_train_mca, n_components=17)"
   ]
  },
  {
   "cell_type": "markdown",
   "id": "a131edaa",
   "metadata": {},
   "source": [
    "### Pipeline: Standarization + MCA + SMOTE + Classifier"
   ]
  },
  {
   "cell_type": "code",
   "execution_count": null,
   "id": "03aa07d4",
   "metadata": {},
   "outputs": [],
   "source": [
    "def getMCAPipeline(classifier):\n",
    "    scale = StandardScaler()\n",
    "    mca = MCA(n_components=12) # 80% inertia\n",
    "    smote = SMOTE(random_state=42, k_neighbors=5)\n",
    "    p = make_pipeline(scale, mca, smote, classifier)\n",
    "    return p"
   ]
  },
  {
   "cell_type": "markdown",
   "id": "5378abd1",
   "metadata": {},
   "source": [
    "#### SVC"
   ]
  },
  {
   "cell_type": "code",
   "execution_count": null,
   "id": "25d88a95",
   "metadata": {},
   "outputs": [],
   "source": [
    "# TODO NaN\n",
    "svc = SVC(random_state=42)\n",
    "pipeline = getMCAPipeline(svc) \n",
    "runCrossValidation(pipeline, X_train_mca, y_train)"
   ]
  },
  {
   "cell_type": "markdown",
   "id": "b398359e",
   "metadata": {},
   "source": [
    "#### Random Forest"
   ]
  },
  {
   "cell_type": "code",
   "execution_count": null,
   "id": "72813f79",
   "metadata": {},
   "outputs": [],
   "source": [
    "# TODO NaN\n",
    "rfc = RandomForestClassifier(random_state=42)\n",
    "pipeline = getMCAPipeline(rfc) \n",
    "runCrossValidation(pipeline, X_train_mca, y_train)"
   ]
  },
  {
   "cell_type": "markdown",
   "id": "e7aea7a9",
   "metadata": {},
   "source": [
    "## Evaluating the model"
   ]
  },
  {
   "cell_type": "markdown",
   "id": "2187d589",
   "metadata": {},
   "source": [
    "Select the best model w.r.t the cross-validation score and evaluate it."
   ]
  },
  {
   "cell_type": "code",
   "execution_count": null,
   "id": "e942f00b",
   "metadata": {},
   "outputs": [],
   "source": [
    "from sklearn.metrics import confusion_matrix\n",
    "from sklearn.metrics import precision_score,f1_score\n",
    "\n",
    "# TODO \n",
    "\n",
    "# print(confusion_matrix(y_val, yPredict))\n",
    "# print(f1_score(y_val, yPredict))"
   ]
  }
 ],
 "metadata": {
  "kernelspec": {
   "display_name": "Python 3",
   "language": "python",
   "name": "python3"
  },
  "language_info": {
   "codemirror_mode": {
    "name": "ipython",
    "version": 3
   },
   "file_extension": ".py",
   "mimetype": "text/x-python",
   "name": "python",
   "nbconvert_exporter": "python",
   "pygments_lexer": "ipython3",
   "version": "3.9.5"
  }
 },
 "nbformat": 4,
 "nbformat_minor": 5
}
